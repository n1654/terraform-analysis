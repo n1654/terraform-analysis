{
 "cells": [
  {
   "cell_type": "markdown",
   "id": "d6253a72",
   "metadata": {},
   "source": [
    "# Terraform prototype"
   ]
  },
  {
   "cell_type": "code",
   "execution_count": 136,
   "id": "3f7ab13b",
   "metadata": {},
   "outputs": [],
   "source": [
    "import re\n",
    "import os\n",
    "import json\n",
    "import subprocess"
   ]
  },
  {
   "cell_type": "code",
   "execution_count": 137,
   "id": "18cf768f",
   "metadata": {},
   "outputs": [],
   "source": [
    "def str_diff(str_a, str_b):\n",
    "\n",
    "    result_a = \"\"\n",
    "    result_b = \"\"\n",
    "    max_len=len(str_a) if len(str_a)>len(str_b) else len(str_b)\n",
    "\n",
    "    for i in range(max_len):\n",
    "        letter_a = str_a[i:i+1]\n",
    "        letter_b = str_b[i:i+1]\n",
    "        if letter_a != letter_b:\n",
    "            result_a += letter_a\n",
    "            result_b += letter_b\n",
    "    \n",
    "    return result_a, result_b"
   ]
  },
  {
   "cell_type": "code",
   "execution_count": 138,
   "id": "4f59ac27",
   "metadata": {},
   "outputs": [],
   "source": [
    "def get_path(path_line):\n",
    "    path = re.split(\"\\]\\[|\\[|\\]\", path_line)\n",
    "    del(path[0]); del(path[-1])\n",
    "    return path"
   ]
  },
  {
   "cell_type": "code",
   "execution_count": 139,
   "id": "9113eb96",
   "metadata": {},
   "outputs": [],
   "source": [
    "def path_diff(left, right):\n",
    "    return diff"
   ]
  },
  {
   "cell_type": "code",
   "execution_count": 140,
   "id": "976a2f61",
   "metadata": {},
   "outputs": [],
   "source": [
    "class SingletonMeta(type):\n",
    "\n",
    "    _instances = {}\n",
    "\n",
    "    def __call__(cls, *args, **kwargs):\n",
    "        if cls not in cls._instances:\n",
    "            instance            = super().__call__(*args, **kwargs)\n",
    "            cls._instances[cls] = instance\n",
    "        return cls._instances[cls]"
   ]
  },
  {
   "cell_type": "code",
   "execution_count": 141,
   "id": "a484e090",
   "metadata": {},
   "outputs": [],
   "source": [
    "class TfSchema(metaclass=SingletonMeta):\n",
    "\n",
    "    def __init__(self, path):\n",
    "        \"\"\"\n",
    "        Takes path of the folder where the terraform files placed\n",
    "        creates tf_schema.json\n",
    "        \"\"\"\n",
    "        self.path      = path\n",
    "        self.file_name = \"tf_schema.json\"\n",
    "        self.schema    = self.__schema()\n",
    "\n",
    "    def __load(self):\n",
    "        command = f\"terraform -chdir={self.path} providers schema -json > {self.path}/{self.file_name}\"\n",
    "        p = subprocess.Popen(command, stdout=subprocess.PIPE, shell=True)\n",
    "        p.wait()\n",
    "\n",
    "    def __schema(self):\n",
    "        self.__load()\n",
    "        with open(f\"{self.path}/{self.file_name}\", \"r\") as f:\n",
    "            self._schema = json.load(f)\n",
    "        return self._schema"
   ]
  },
  {
   "cell_type": "code",
   "execution_count": 251,
   "id": "15188ed0",
   "metadata": {},
   "outputs": [],
   "source": [
    "class TfSchemaHandler():\n",
    "\n",
    "    def __init__(self, tf_schema_json, provider=\"kubernetes\"):\n",
    "        self.provider = provider\n",
    "        self.schema   = tf_schema_json\n",
    "\n",
    "    def list_resource_schemas(self):\n",
    "        resource_objects = self.schema[\"provider_schemas\"][f\"registry.terraform.io/hashicorp/{self.provider}\"][\"resource_schemas\"].keys()\n",
    "        return list(resource_objects)\n",
    "\n",
    "    def list_required_attributes(self, resource):\n",
    "        resource = self.schema[\"provider_schemas\"][f\"registry.terraform.io/hashicorp/{self.provider}\"][\"resource_schemas\"][resource]\n",
    "\n",
    "        required_attributes      = []\n",
    "        lookup_key, lookup_value = \"required\", \"true\"\n",
    "        \n",
    "        def reverse_lookup(json_tree, json_path):\n",
    "\n",
    "            for key, value in json_tree.items():\n",
    "                if isinstance(value, dict):\n",
    "                    reverse_lookup(json_tree[key], json_path + f\"[{key}]\")\n",
    "                    # parent = json_tree[key]\n",
    "                else:\n",
    "                    if key == lookup_key:\n",
    "                        required_attributes.append(json_path)\n",
    "                    else:\n",
    "                        continue\n",
    "\n",
    "        reverse_lookup(resource, \"\")\n",
    "\n",
    "        return required_attributes\n",
    "    \n",
    "    def show_block(self, resource):\n",
    "        block = self.schema[\"provider_schemas\"][f\"registry.terraform.io/hashicorp/{self.provider}\"] \\\n",
    "            [\"resource_schemas\"][resource][\"block\"]\n",
    "        return list(block.keys())\n",
    "    \n",
    "    def show_block_types(self, resource):\n",
    "        block_types = self.schema[\"provider_schemas\"][f\"registry.terraform.io/hashicorp/{self.provider}\"] \\\n",
    "            [\"resource_schemas\"][resource][\"block\"][\"block_types\"]\n",
    "        return list(block_types.keys())\n",
    "    \n",
    "    def show_metadata_attrs(self, resource):\n",
    "        attrs = self.schema[\"provider_schemas\"][f\"registry.terraform.io/hashicorp/{self.provider}\"] \\\n",
    "            [\"resource_schemas\"][resource][\"block\"][\"block_types\"][\"metadata\"][\"block\"][\"attributes\"]\n",
    "        return list(attrs.keys())\n",
    "    \n",
    "    def show_spec_block_types(self, resource):\n",
    "        spec_block_types = self.schema[\"provider_schemas\"][f\"registry.terraform.io/hashicorp/{self.provider}\"] \\\n",
    "            [\"resource_schemas\"][resource][\"block\"][\"block_types\"][\"spec\"][\"block\"][\"block_types\"]\n",
    "        return list(spec_block_types.keys())\n",
    "    \n",
    "    def get_parent(self, resource):\n",
    "        \"\"\" \n",
    "        Takes schemas object, returns json object\n",
    "        \"\"\"\n",
    "        parent = self.schema[\"provider_schemas\"][f\"registry.terraform.io/hashicorp/{self.provider}\"] \\\n",
    "            [\"resource_schemas\"][resource]\n",
    "        return parent\n",
    "    \n",
    "    def get_block(self, resource):\n",
    "        \"\"\" \n",
    "        Takes json object, returns json objects\n",
    "        \"\"\"\n",
    "        block = resource.get(\"block\")\n",
    "        return block\n",
    "   \n",
    "    def expand_block(self, resource_object):\n",
    "        \"\"\" \n",
    "        Takes json object, returns json attributes and \n",
    "        block_type objects if exist\n",
    "        \"\"\"\n",
    "        attributes = resource_object.get(\"attributes\")\n",
    "        block_types = resource_object.get(\"block_types\")\n",
    "        return attributes, block_types"
   ]
  },
  {
   "cell_type": "markdown",
   "id": "fb5782d3",
   "metadata": {},
   "source": [
    "## 1. Create terrafrom file with schema"
   ]
  },
  {
   "cell_type": "code",
   "execution_count": 252,
   "id": "f0c76938",
   "metadata": {},
   "outputs": [],
   "source": [
    "js = TfSchema(\"./\")"
   ]
  },
  {
   "cell_type": "markdown",
   "id": "8a3a384c",
   "metadata": {},
   "source": [
    "## 2. Initialize Handler"
   ]
  },
  {
   "cell_type": "code",
   "execution_count": 253,
   "id": "8808d9cc",
   "metadata": {},
   "outputs": [],
   "source": [
    "k8s = TfSchemaHandler(js.schema)"
   ]
  },
  {
   "cell_type": "markdown",
   "id": "6e9e5dd2",
   "metadata": {},
   "source": [
    "## 3. Print resources"
   ]
  },
  {
   "cell_type": "code",
   "execution_count": 254,
   "id": "57dcd5e1",
   "metadata": {},
   "outputs": [
    {
     "data": {
      "text/plain": [
       "['kubernetes_api_service',\n",
       " 'kubernetes_certificate_signing_request',\n",
       " 'kubernetes_cluster_role',\n",
       " 'kubernetes_cluster_role_binding',\n",
       " 'kubernetes_config_map',\n",
       " 'kubernetes_cron_job',\n",
       " 'kubernetes_csi_driver',\n",
       " 'kubernetes_daemonset',\n",
       " 'kubernetes_default_service_account',\n",
       " 'kubernetes_deployment',\n",
       " 'kubernetes_endpoints',\n",
       " 'kubernetes_horizontal_pod_autoscaler',\n",
       " 'kubernetes_ingress',\n",
       " 'kubernetes_job',\n",
       " 'kubernetes_limit_range',\n",
       " 'kubernetes_manifest',\n",
       " 'kubernetes_mutating_webhook_configuration',\n",
       " 'kubernetes_namespace',\n",
       " 'kubernetes_network_policy',\n",
       " 'kubernetes_persistent_volume',\n",
       " 'kubernetes_persistent_volume_claim',\n",
       " 'kubernetes_pod',\n",
       " 'kubernetes_pod_disruption_budget',\n",
       " 'kubernetes_pod_security_policy',\n",
       " 'kubernetes_priority_class',\n",
       " 'kubernetes_replication_controller',\n",
       " 'kubernetes_resource_quota',\n",
       " 'kubernetes_role',\n",
       " 'kubernetes_role_binding',\n",
       " 'kubernetes_secret',\n",
       " 'kubernetes_service',\n",
       " 'kubernetes_service_account',\n",
       " 'kubernetes_stateful_set',\n",
       " 'kubernetes_storage_class',\n",
       " 'kubernetes_validating_webhook_configuration']"
      ]
     },
     "execution_count": 254,
     "metadata": {},
     "output_type": "execute_result"
    }
   ],
   "source": [
    "k8s.list_resource_schemas()"
   ]
  },
  {
   "cell_type": "markdown",
   "id": "5063ccae",
   "metadata": {},
   "source": [
    "## 4. [Optional] load json into object"
   ]
  },
  {
   "cell_type": "code",
   "execution_count": 271,
   "id": "ab98d60e",
   "metadata": {},
   "outputs": [],
   "source": [
    "resource = \"kubernetes_pod\""
   ]
  },
  {
   "cell_type": "code",
   "execution_count": 272,
   "id": "0b6a1ced",
   "metadata": {},
   "outputs": [
    {
     "data": {
      "text/plain": [
       "['attributes', 'block_types', 'description_kind']"
      ]
     },
     "execution_count": 272,
     "metadata": {},
     "output_type": "execute_result"
    }
   ],
   "source": [
    "k8s.show_block(resource)"
   ]
  },
  {
   "cell_type": "code",
   "execution_count": 273,
   "id": "8381baea",
   "metadata": {},
   "outputs": [],
   "source": [
    "obj_01 = k8s.get_parent(resource)"
   ]
  },
  {
   "cell_type": "code",
   "execution_count": 274,
   "id": "bad26768",
   "metadata": {},
   "outputs": [],
   "source": [
    "data = json.dumps(obj_01)"
   ]
  },
  {
   "cell_type": "code",
   "execution_count": 275,
   "id": "f1a05788",
   "metadata": {},
   "outputs": [],
   "source": [
    "obj_01 = json.loads(data, object_hook=lambda d: SimpleNamespace(**d))"
   ]
  },
  {
   "cell_type": "code",
   "execution_count": 284,
   "id": "5f381281",
   "metadata": {},
   "outputs": [
    {
     "data": {
      "text/plain": [
       "'string'"
      ]
     },
     "execution_count": 284,
     "metadata": {},
     "output_type": "execute_result"
    }
   ],
   "source": [
    "obj_01.block.block_types.metadata.block.attributes.name.type"
   ]
  },
  {
   "cell_type": "code",
   "execution_count": 285,
   "id": "3a73ad94",
   "metadata": {},
   "outputs": [
    {
     "data": {
      "text/plain": [
       "True"
      ]
     },
     "execution_count": 285,
     "metadata": {},
     "output_type": "execute_result"
    }
   ],
   "source": [
    "obj_01.block.block_types.metadata.block.attributes.name.optional"
   ]
  },
  {
   "cell_type": "code",
   "execution_count": null,
   "id": "b41b72a0",
   "metadata": {},
   "outputs": [],
   "source": []
  }
 ],
 "metadata": {
  "kernelspec": {
   "display_name": "Python 3",
   "language": "python",
   "name": "python3"
  },
  "language_info": {
   "codemirror_mode": {
    "name": "ipython",
    "version": 3
   },
   "file_extension": ".py",
   "mimetype": "text/x-python",
   "name": "python",
   "nbconvert_exporter": "python",
   "pygments_lexer": "ipython3",
   "version": "3.8.8"
  }
 },
 "nbformat": 4,
 "nbformat_minor": 5
}
